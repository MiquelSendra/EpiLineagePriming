{
 "cells": [
  {
   "cell_type": "code",
   "execution_count": 1,
   "metadata": {},
   "outputs": [],
   "source": [
    "import numpy as np\n",
    "import pandas as pd\n",
    "from matplotlib import pyplot as plt\n",
    "%matplotlib notebook"
   ]
  },
  {
   "cell_type": "markdown",
   "metadata": {},
   "source": [
    "# 8.3-8.4 Quantification (gonzalo)"
   ]
  },
  {
   "cell_type": "code",
   "execution_count": 2,
   "metadata": {},
   "outputs": [],
   "source": [
    "data1 = pd.read_csv(\"S:\\\\LAB_MT\\\\RESULTADOS\\\\MiQuel\\\\Embryos\\\\MS_TL_19-05-18_e116_CBF-H2BVenus_RERTtdtomato\\\\Results_1.csv\") \n",
    "data2 = pd.read_csv(\"S:\\\\LAB_MT\\\\RESULTADOS\\\\MiQuel\\\\Embryos\\\\MS_TL_19-05-18_e116_CBF-H2BVenus_RERTtdtomato\\\\Results2.csv\") \n"
   ]
  },
  {
   "cell_type": "code",
   "execution_count": 3,
   "metadata": {},
   "outputs": [],
   "source": [
    "t_pos1 = data1.iloc[-1,1]   #total CBFVenus positive endocardial cells\n",
    "t_neg1 = data1.iloc[-1,2]    #total CBFVenus negative endocardial cells\n",
    "\n",
    "t_pos2 = data2.iloc[-1,1]    #total CBFVenus negative endocardial cells\n",
    "t_neg2 = data2.iloc[-1,2]    #total CBFVenus negative endocardial cells"
   ]
  },
  {
   "cell_type": "code",
   "execution_count": 4,
   "metadata": {},
   "outputs": [],
   "source": [
    "a = [t_pos1,t_pos2] #positive cells from both samples\n",
    "b = [t_neg1,t_neg2] #negative cells from both samples"
   ]
  },
  {
   "cell_type": "markdown",
   "metadata": {},
   "source": [
    "## Ploting total number of positive and negative cells (white background)"
   ]
  },
  {
   "cell_type": "code",
   "execution_count": 5,
   "metadata": {},
   "outputs": [
    {
     "data": {
      "image/png": "[encoded data removed]",
      "text/plain": [
       "<Figure size 396x144 with 1 Axes>"
      ]
     },
     "metadata": {
      "needs_background": "light"
     },
     "output_type": "display_data"
    }
   ],
   "source": [
    "fig = plt.figure(figsize=(5.5, 2))\n",
    "ax = fig.add_subplot(1, 2, 1)\n",
    "plt.xticks([0.33, 0.66], rotation = '45')\n",
    "\n",
    "ax.plot(([0.33,0.66]), (a[0],b[0]), 'o', label = '3 somites')\n",
    "ax.plot(([0.33,0.66]), (a[1],b[1]),'o', label = '4 somites')\n",
    "ax.set_ylim(0,230)\n",
    "ax.set_xticks([0.33, 0.66])\n",
    "ax.set_xlim(0.1,0.9)\n",
    "\n",
    "ax.tick_params(axis='x')\n",
    "ax.tick_params(axis='y')\n",
    "ax.set_ylabel('#cells')\n",
    "\n",
    "\n",
    "ax.legend()\n",
    "\n",
    "ax.set_xticklabels(['Venus +', 'Venus -'])\n",
    "\n",
    "\n",
    "#plt.savefig('test7.png',  format='png', dpi=1000, bbox_inches = 'tight', transparent = True)\n",
    "\n",
    "plt.show()"
   ]
  },
  {
   "cell_type": "code",
   "execution_count": 74,
   "metadata": {},
   "outputs": [
    {
     "data": {
      "text/plain": [
       "93.51145038167938"
      ]
     },
     "execution_count": 74,
     "metadata": {},
     "output_type": "execute_result"
    }
   ],
   "source": [
    "(float(a[0] + b[0])/float(a[1] + b[1]))*100\n"
   ]
  },
  {
   "cell_type": "code",
   "execution_count": 65,
   "metadata": {},
   "outputs": [
    {
     "data": {
      "image/png": "[encoded data removed]",
      "text/plain": [
       "<Figure size 576x144 with 2 Axes>"
      ]
     },
     "metadata": {
      "needs_background": "dark"
     },
     "output_type": "display_data"
    }
   ],
   "source": [
    "fig = plt.figure(figsize=(8, 2))\n",
    "ax = fig.add_subplot(1, 2, 1)\n",
    "plt.xticks([0.33, 0.66], rotation = '45')\n",
    "\n",
    "ax.plot(([0.33,0.66]), (a[0],b[0]), 'o', label = '3 somites')\n",
    "ax.plot(([0.33,0.66]), (a[1],b[1]),'o', label = '4 somites')\n",
    "ax.set_ylim(0,230)\n",
    "ax.set_xticks([0.33, 0.66])\n",
    "ax.set_xlim(0.1,0.9)\n",
    "\n",
    "ax.tick_params(axis='x', colors='white')\n",
    "ax.tick_params(axis='y', colors='white')\n",
    "ax.set_ylabel('#cells').set_color('white')\n",
    "\n",
    "ax.spines['top'].set_visible(False)\n",
    "ax.spines['right'].set_visible(False)\n",
    "ax.spines['bottom'].set_color('white')\n",
    "ax.spines['left'].set_color('white')\n",
    "\n",
    "ax.legend()\n",
    "\n",
    "ax.set_xticklabels(['Venus +', 'Venus -'])\n",
    "\n",
    "\n",
    "#plt.savefig('test7.png',  format='png', dpi=1000, bbox_inches = 'tight', transparent = True)\n",
    "\n",
    "ax = fig.add_subplot(1, 2, 2)\n",
    "\n",
    "ax.scatter([1,2,3,4], [zrange_ratio1[i] for i in sorted(zrange_ratio1.keys())], label = 'E8.25')\n",
    "ax.scatter([1,2,3,4], [zrange_ratio2[i] for i in sorted(zrange_ratio2.keys())], label = 'E8.4')\n",
    "\n",
    "\n",
    "ax.tick_params(axis='x', colors='white')\n",
    "ax.tick_params(axis='y', colors='white')\n",
    "ax.set_ylabel('#Venus +/#Venus -').set_color('white')\n",
    "\n",
    "ax.spines['top'].set_visible(False)\n",
    "ax.spines['right'].set_visible(False)\n",
    "ax.spines['bottom'].set_color('white')\n",
    "ax.spines['left'].set_color('white')\n",
    "\n",
    "plt.subplots_adjust(left=None, bottom=None, right=None, top=None, wspace=0.5, hspace=None)\n",
    "\n",
    "#ax.legend()\n",
    "\n",
    "\n",
    "plt.savefig('test8.png',  format='png', dpi=1000, bbox_inches = 'tight', transparent = True)\n"
   ]
  },
  {
   "cell_type": "markdown",
   "metadata": {},
   "source": [
    "## Ploting the position of these cells in z"
   ]
  },
  {
   "cell_type": "markdown",
   "metadata": {},
   "source": [
    "C-pos in the csv means z pos"
   ]
  },
  {
   "cell_type": "code",
   "execution_count": 7,
   "metadata": {},
   "outputs": [],
   "source": [
    "data1_wot = data1[:-1] #data without totals row\n",
    "data2_wot = data2[:-1] #data without totals row"
   ]
  },
  {
   "cell_type": "markdown",
   "metadata": {},
   "source": [
    "### Manually generate 4 z intervals to calculate the -/+ ratio on those\n",
    "<br>\n",
    "look at the data and determine where the heart starts and ends. The ending (outflow is the first z)"
   ]
  },
  {
   "cell_type": "code",
   "execution_count": 8,
   "metadata": {},
   "outputs": [],
   "source": [
    "start_stack1 = 113 #found by looking at the image. 3 slices before the first endocardial cell is located\n",
    "start_stack2 = 270 #found by looking at the image. 3 slices before the first endocardial cell is located\n",
    "outflow1 = 0\n",
    "outflow2 = 43 #found by looking at the image. "
   ]
  },
  {
   "cell_type": "markdown",
   "metadata": {},
   "source": [
    "this is the total z stack, but we don't want to take this into account. just the first and the 270"
   ]
  },
  {
   "cell_type": "code",
   "execution_count": 9,
   "metadata": {},
   "outputs": [
    {
     "name": "stdout",
     "output_type": "stream",
     "text": [
      "203.0\n",
      "463.0\n"
     ]
    }
   ],
   "source": [
    "print data1_wot.iloc[-1]['C-pos'] - data1_wot.iloc[0]['C-pos']\n",
    "print data2_wot.iloc[-1]['C-pos'] - data2_wot.iloc[0]['C-pos']"
   ]
  },
  {
   "cell_type": "code",
   "execution_count": 10,
   "metadata": {},
   "outputs": [],
   "source": [
    "width1 = int(start_stack1 - outflow1) #this our real endocardium width\n",
    "chunk1 = width1/4 #we want to have 4 ranges\n",
    "\n",
    "width2 = int(start_stack2 - outflow2) #this our real endocardium width\n",
    "chunk2 = width2/4 #we want to have 4 ranges"
   ]
  },
  {
   "cell_type": "code",
   "execution_count": 11,
   "metadata": {},
   "outputs": [
    {
     "name": "stdout",
     "output_type": "stream",
     "text": [
      "[0, 28, 56, 84, 112]\n",
      "[0, 56, 112, 168, 224]\n"
     ]
    }
   ],
   "source": [
    "intervals1 = range(0, width1, chunk1)\n",
    "print intervals1 # the next cell will wount cells between the stacks 0 and 67\n",
    "#and calculate the -+ ratio over the different chunks\n",
    "\n",
    "intervals2 = range(0, width2, chunk2)\n",
    "print intervals2 # the next cell will wount cells between the stacks 0 and 67\n",
    "#and calculate the -+ ratio over the different chunks"
   ]
  },
  {
   "cell_type": "code",
   "execution_count": 12,
   "metadata": {},
   "outputs": [],
   "source": [
    "zrange_ratio1 = {}\n",
    "\n",
    "for i in range(len(intervals1[0:-1])):\n",
    "    zrange_ratio1[intervals1[i+1]] = 0\n",
    "    type1 = float(0)\n",
    "    type2 = float(0)\n",
    "    \n",
    "    for index, row in data2_wot.iterrows():\n",
    "        if intervals1 [i] <= row['C-pos'] <= intervals1 [i+1]:\n",
    "            #print 'yes'\n",
    "            type1 += int(row['Type 1'])\n",
    "            type2 += int(row['Type 2'])\n",
    "    zrange_ratio1[intervals1[i+1]] = type2/type1"
   ]
  },
  {
   "cell_type": "code",
   "execution_count": 13,
   "metadata": {},
   "outputs": [],
   "source": [
    "zrange_ratio2 = {}\n",
    "\n",
    "for i in range(len(intervals2[0:-1])):\n",
    "    zrange_ratio2[intervals2[i+1]] = 0\n",
    "    type1 = float(0)\n",
    "    type2 = float(0)\n",
    "    \n",
    "    for index, row in data2_wot.iterrows():\n",
    "        if intervals2 [i] <= row['C-pos'] <= intervals2 [i+1]:\n",
    "            #print 'yes'\n",
    "            type1 += int(row['Type 1'])\n",
    "            type2 += int(row['Type 2'])\n",
    "    zrange_ratio2[intervals2[i+1]] = type2/type1\n"
   ]
  },
  {
   "cell_type": "code",
   "execution_count": 35,
   "metadata": {},
   "outputs": [
    {
     "data": {
      "text/plain": [
       "{28: 0.5, 56: 0.8888888888888888, 84: 0.45454545454545453, 112: 1.0}"
      ]
     },
     "execution_count": 35,
     "metadata": {},
     "output_type": "execute_result"
    }
   ],
   "source": [
    "zrange_ratio1"
   ]
  },
  {
   "cell_type": "code",
   "execution_count": null,
   "metadata": {},
   "outputs": [],
   "source": [
    " c=color, s=scale, label=color,\n",
    "               alpha=0.3, edgecolors='none'"
   ]
  },
  {
   "cell_type": "code",
   "execution_count": 55,
   "metadata": {},
   "outputs": [
    {
     "data": {
      "image/png": "[encoded data removed]",
      "text/plain": [
       "<Figure size 720x144 with 1 Axes>"
      ]
     },
     "metadata": {
      "needs_background": "dark"
     },
     "output_type": "display_data"
    }
   ],
   "source": [
    "fig = plt.figure(figsize=(10, 2))\n",
    "\n",
    "ax = fig.add_subplot(1, 2, 2)\n",
    "\n",
    "ax.scatter([1,2,3,4], [zrange_ratio1[i] for i in sorted(zrange_ratio1.keys())], label = 'E8.25')\n",
    "ax.scatter([1,2,3,4], [zrange_ratio2[i] for i in sorted(zrange_ratio2.keys())], label = 'E8.4')\n",
    "\n",
    "\n",
    "ax.tick_params(axis='x', colors='white')\n",
    "ax.tick_params(axis='y', colors='white')\n",
    "ax.set_ylabel('#cells').set_color('white')\n",
    "\n",
    "ax.spines['top'].set_visible(False)\n",
    "ax.spines['right'].set_visible(False)\n",
    "ax.spines['bottom'].set_color('white')\n",
    "ax.spines['left'].set_color('white')\n",
    "\n",
    "\n",
    "\n",
    "#ax.legend()\n",
    "\n",
    "\n",
    "plt.savefig('test8.png',  format='png', dpi=1000, bbox_inches = 'tight', transparent = True)\n"
   ]
  },
  {
   "cell_type": "markdown",
   "metadata": {},
   "source": [
    "# 7.8-8 quantification  (CBFVenus at the end of the videos are endothelial CD31 cells)"
   ]
  },
  {
   "cell_type": "code",
   "execution_count": 39,
   "metadata": {},
   "outputs": [],
   "source": [
    "data = pd.ExcelFile(\"S:\\LAB_MT\\RESULTADOS\\MiQuel\\Embryos\\CellCounter_CD31_CBFVenus.xlsx\")"
   ]
  },
  {
   "cell_type": "markdown",
   "metadata": {},
   "source": [
    "### Explainatory examples"
   ]
  },
  {
   "cell_type": "code",
   "execution_count": 40,
   "metadata": {},
   "outputs": [
    {
     "data": {
      "text/plain": [
       "['1', '2', '3']"
      ]
     },
     "execution_count": 40,
     "metadata": {},
     "output_type": "execute_result"
    }
   ],
   "source": [
    "# Last row give us the important info. This excel contains 3 sheets. one for embryo\n",
    "data.sheet_names"
   ]
  },
  {
   "cell_type": "code",
   "execution_count": 46,
   "metadata": {},
   "outputs": [],
   "source": [
    "#Select a specific sheet\n",
    "e1 = data.parse(1,header=None)"
   ]
  },
  {
   "cell_type": "code",
   "execution_count": 123,
   "metadata": {},
   "outputs": [
    {
     "data": {
      "text/plain": [
       "120.0"
      ]
     },
     "execution_count": 123,
     "metadata": {},
     "output_type": "execute_result"
    }
   ],
   "source": [
    "e1.iat[-1,0] #select value 0 of the last row. you could also this by ussing e1.iloc[[-1],[0]]"
   ]
  },
  {
   "cell_type": "markdown",
   "metadata": {},
   "source": [
    "### plotting"
   ]
  },
  {
   "cell_type": "code",
   "execution_count": 117,
   "metadata": {},
   "outputs": [],
   "source": [
    "e1 = data.parse(0,header=None) \n",
    "e2 = data.parse(1,header=None)\n",
    "e3 = data.parse(2,header=None)"
   ]
  },
  {
   "cell_type": "code",
   "execution_count": 125,
   "metadata": {},
   "outputs": [],
   "source": [
    "positives = np.array([e1.iat[-1,0], e2.iat[-1,0],e3.iat[-1,0]])"
   ]
  },
  {
   "cell_type": "code",
   "execution_count": 127,
   "metadata": {},
   "outputs": [],
   "source": [
    "negatives = np.array([e1.iat[-1,1], e2.iat[-1,1],e3.iat[-1,1]])"
   ]
  },
  {
   "cell_type": "code",
   "execution_count": 128,
   "metadata": {},
   "outputs": [],
   "source": [
    "total = positives + negatives"
   ]
  },
  {
   "cell_type": "code",
   "execution_count": 130,
   "metadata": {},
   "outputs": [],
   "source": [
    "percent_pos = positives/total * 100"
   ]
  },
  {
   "cell_type": "code",
   "execution_count": 131,
   "metadata": {},
   "outputs": [
    {
     "data": {
      "text/plain": [
       "array([80.        , 88.8       , 91.07981221])"
      ]
     },
     "execution_count": 131,
     "metadata": {},
     "output_type": "execute_result"
    }
   ],
   "source": [
    "percent_pos"
   ]
  },
  {
   "cell_type": "code",
   "execution_count": 133,
   "metadata": {},
   "outputs": [
    {
     "data": {
      "text/plain": [
       "86.62660406885759"
      ]
     },
     "execution_count": 133,
     "metadata": {},
     "output_type": "execute_result"
    }
   ],
   "source": [
    "percent_pos.mean()"
   ]
  },
  {
   "cell_type": "code",
   "execution_count": 138,
   "metadata": {},
   "outputs": [],
   "source": [
    "#STATS\n",
    "import scipy.stats"
   ]
  },
  {
   "cell_type": "code",
   "execution_count": 140,
   "metadata": {},
   "outputs": [
    {
     "data": {
      "text/plain": [
       "DescribeResult(nobs=array(3, dtype=int64), minmax=(masked_array(data=80.,\n",
       "             mask=False,\n",
       "       fill_value=1e+20), masked_array(data=91.07981221,\n",
       "             mask=False,\n",
       "       fill_value=1e+20)), mean=86.62660406885759, variance=22.822198025573005, skewness=masked_array(data=-0.5882564,\n",
       "             mask=False,\n",
       "       fill_value=1e+20), kurtosis=-1.5)"
      ]
     },
     "execution_count": 140,
     "metadata": {},
     "output_type": "execute_result"
    }
   ],
   "source": [
    "scipy.stats.mstats.describe(percent_pos)"
   ]
  },
  {
   "cell_type": "code",
   "execution_count": 143,
   "metadata": {},
   "outputs": [],
   "source": [
    "import math"
   ]
  },
  {
   "cell_type": "code",
   "execution_count": 144,
   "metadata": {},
   "outputs": [
    {
     "data": {
      "text/plain": [
       "4.7772584214770095"
      ]
     },
     "execution_count": 144,
     "metadata": {},
     "output_type": "execute_result"
    }
   ],
   "source": [
    "math.sqrt(percent_pos.var())"
   ]
  },
  {
   "cell_type": "code",
   "execution_count": null,
   "metadata": {},
   "outputs": [],
   "source": [
    "## wait for higher N"
   ]
  },
  {
   "cell_type": "code",
   "execution_count": null,
   "metadata": {},
   "outputs": [],
   "source": []
  },
  {
   "cell_type": "code",
   "execution_count": 86,
   "metadata": {},
   "outputs": [
    {
     "data": {
      "text/plain": [
       "{'whiskers': [<matplotlib.lines.Line2D at 0x19b158f5e10>,\n",
       "  <matplotlib.lines.Line2D at 0x19b15b652e8>,\n",
       "  <matplotlib.lines.Line2D at 0x19b15b87ba8>,\n",
       "  <matplotlib.lines.Line2D at 0x19b15b87fd0>,\n",
       "  <matplotlib.lines.Line2D at 0x19b15b64940>,\n",
       "  <matplotlib.lines.Line2D at 0x19b15b64d68>],\n",
       " 'caps': [<matplotlib.lines.Line2D at 0x19b15b65710>,\n",
       "  <matplotlib.lines.Line2D at 0x19b15b65b38>,\n",
       "  <matplotlib.lines.Line2D at 0x19b15b73438>,\n",
       "  <matplotlib.lines.Line2D at 0x19b15b73860>,\n",
       "  <matplotlib.lines.Line2D at 0x19b1598f1d0>,\n",
       "  <matplotlib.lines.Line2D at 0x19b1598f5f8>],\n",
       " 'boxes': [<matplotlib.lines.Line2D at 0x19b158f5cc0>,\n",
       "  <matplotlib.lines.Line2D at 0x19b15b87748>,\n",
       "  <matplotlib.lines.Line2D at 0x19b15b644e0>],\n",
       " 'medians': [<matplotlib.lines.Line2D at 0x19b15b65ef0>,\n",
       "  <matplotlib.lines.Line2D at 0x19b15b73c88>,\n",
       "  <matplotlib.lines.Line2D at 0x19b1598fa20>],\n",
       " 'fliers': [<matplotlib.lines.Line2D at 0x19b15b87358>,\n",
       "  <matplotlib.lines.Line2D at 0x19b15b640f0>,\n",
       "  <matplotlib.lines.Line2D at 0x19b1598fe48>],\n",
       " 'means': []}"
      ]
     },
     "execution_count": 86,
     "metadata": {},
     "output_type": "execute_result"
    },
    {
     "data": {
      "image/png": "[encoded data removed]",
      "text/plain": [
       "<Figure size 576x360 with 1 Axes>"
      ]
     },
     "metadata": {},
     "output_type": "display_data"
    }
   ],
   "source": [
    "fig = plt.figure(figsize=(8, 5))\n",
    "ax = fig.add_subplot(1, 2, 1)\n",
    "# ax.violinplot([end_to_end, mes_to_mes, end_to_mes], showextrema=False)\n",
    "ax.boxplot(positives)\n",
    "#ax.set_xticks([1, 2, 3])\n",
    "#ax.set_xticklabels(['end to end', 'mes to mes', 'end to mes'])\n",
    "#ax.set_ylim(0, 2.5)\n",
    "#ax.set_title('ALL t1-t15')\n",
    "#ax.set_ylabel('distance increment every 5 minutes (um)')"
   ]
  },
  {
   "cell_type": "code",
   "execution_count": null,
   "metadata": {},
   "outputs": [],
   "source": []
  }
 ],
 "metadata": {
  "kernelspec": {
   "display_name": "Python 3",
   "language": "python",
   "name": "python3"
  },
  "language_info": {
   "codemirror_mode": {
    "name": "ipython",
    "version": 3
   },
   "file_extension": ".py",
   "mimetype": "text/x-python",
   "name": "python",
   "nbconvert_exporter": "python",
   "pygments_lexer": "ipython3",
   "version": "3.6.9"
  }
 },
 "nbformat": 4,
 "nbformat_minor": 2
}
